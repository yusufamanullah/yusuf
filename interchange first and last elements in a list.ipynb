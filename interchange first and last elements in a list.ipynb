{
 "cells": [
  {
   "cell_type": "code",
   "execution_count": 1,
   "metadata": {},
   "outputs": [
    {
     "name": "stdout",
     "output_type": "stream",
     "text": [
      "[23, 32, 54, 65, 12]\n"
     ]
    }
   ],
   "source": [
    "def swaplist(newlist):\n",
    "    newlist[-1], newlist[0] = newlist[0], newlist[-1]\n",
    "    return newlist\n",
    "newlist = [12, 32, 54, 65, 23]\n",
    "print(swaplist(newlist))"
   ]
  },
  {
   "cell_type": "code",
   "execution_count": 4,
   "metadata": {},
   "outputs": [],
   "source": [
    "def swaplist(list):\n",
    "    get = list[-1], list[0]\n",
    "    list[0], list[-1] = get\n",
    "    return list\n",
    "list = [23,43,56,78]"
   ]
  },
  {
   "cell_type": "code",
   "execution_count": 6,
   "metadata": {},
   "outputs": [
    {
     "name": "stdout",
     "output_type": "stream",
     "text": [
      "[23, 43, 56, 78]\n"
     ]
    }
   ],
   "source": [
    "print(swaplist(list))"
   ]
  },
  {
   "cell_type": "code",
   "execution_count": 7,
   "metadata": {},
   "outputs": [],
   "source": [
    "def swaplist(list):\n",
    "    start, *middle, end = list\n",
    "    list = [end, *middle, start]\n",
    "    return list"
   ]
  },
  {
   "cell_type": "code",
   "execution_count": 8,
   "metadata": {},
   "outputs": [
    {
     "name": "stdout",
     "output_type": "stream",
     "text": [
      "[87, 34, 54, 67, 21]\n"
     ]
    }
   ],
   "source": [
    "newlist = [21, 34, 54, 67, 87]\n",
    "print(swaplist(newlist))"
   ]
  },
  {
   "cell_type": "code",
   "execution_count": 9,
   "metadata": {},
   "outputs": [],
   "source": [
    "def swaplist(list):\n",
    "    first = list.pop(0)\n",
    "    last = list.pop(-1)\n",
    "    \n",
    "    list.insert(0, last)\n",
    "    list.append(first)\n",
    "    \n",
    "    return list\n",
    "newlist = [21,34,54,76,80]"
   ]
  },
  {
   "cell_type": "code",
   "execution_count": 10,
   "metadata": {},
   "outputs": [
    {
     "name": "stdout",
     "output_type": "stream",
     "text": [
      "[80, 34, 54, 76, 21]\n"
     ]
    }
   ],
   "source": [
    "print(swaplist(newlist))"
   ]
  },
  {
   "cell_type": "code",
   "execution_count": 11,
   "metadata": {},
   "outputs": [
    {
     "name": "stdout",
     "output_type": "stream",
     "text": [
      "[78, 87, 98, 90, 10]\n"
     ]
    }
   ],
   "source": [
    "def swaplist(list):\n",
    "    list[-1], list[0] = list[0], list[-1]\n",
    "    return list\n",
    "list = [10,87,98,90,78]\n",
    "print(swaplist(list))"
   ]
  },
  {
   "cell_type": "code",
   "execution_count": 16,
   "metadata": {},
   "outputs": [
    {
     "name": "stdout",
     "output_type": "stream",
     "text": [
      "[87, 54, 32, 45, 54]\n"
     ]
    }
   ],
   "source": [
    "def swaplist(list):\n",
    "    first, *middle, last = list\n",
    "    list = [first, *middle, last]\n",
    "    return list\n",
    "list = [87,54,32,45,54]\n",
    "list1 = [21,43,5,6,3,54]\n",
    "print(swaplist(list))"
   ]
  },
  {
   "cell_type": "code",
   "execution_count": null,
   "metadata": {},
   "outputs": [],
   "source": []
  },
  {
   "cell_type": "code",
   "execution_count": null,
   "metadata": {},
   "outputs": [],
   "source": []
  }
 ],
 "metadata": {
  "kernelspec": {
   "display_name": "Python 3",
   "language": "python",
   "name": "python3"
  },
  "language_info": {
   "codemirror_mode": {
    "name": "ipython",
    "version": 3
   },
   "file_extension": ".py",
   "mimetype": "text/x-python",
   "name": "python",
   "nbconvert_exporter": "python",
   "pygments_lexer": "ipython3",
   "version": "3.8.5"
  }
 },
 "nbformat": 4,
 "nbformat_minor": 4
}
